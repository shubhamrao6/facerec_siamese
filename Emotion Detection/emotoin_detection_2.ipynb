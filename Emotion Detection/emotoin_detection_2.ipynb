{
  "nbformat": 4,
  "nbformat_minor": 0,
  "metadata": {
    "colab": {
      "name": "emotoin_detection-2",
      "provenance": []
    },
    "kernelspec": {
      "name": "python3",
      "display_name": "Python 3"
    },
    "accelerator": "GPU"
  },
  "cells": [
    {
      "cell_type": "code",
      "metadata": {
        "id": "X0CHcvDkBmhr",
        "colab_type": "code",
        "colab": {
          "base_uri": "https://localhost:8080/",
          "height": 120
        },
        "outputId": "842a1769-1669-43f6-e0d6-bfb50c2a45e5"
      },
      "source": [
        "from google.colab import drive\n",
        "# drive.mount('/content/drive')\n",
        "drive.mount(\"/content/drive\", force_remount=True)"
      ],
      "execution_count": 1,
      "outputs": [
        {
          "output_type": "stream",
          "text": [
            "Go to this URL in a browser: https://accounts.google.com/o/oauth2/auth?client_id=947318989803-6bn6qk8qdgf4n4g3pfee6491hc0brc4i.apps.googleusercontent.com&redirect_uri=urn%3aietf%3awg%3aoauth%3a2.0%3aoob&response_type=code&scope=email%20https%3a%2f%2fwww.googleapis.com%2fauth%2fdocs.test%20https%3a%2f%2fwww.googleapis.com%2fauth%2fdrive%20https%3a%2f%2fwww.googleapis.com%2fauth%2fdrive.photos.readonly%20https%3a%2f%2fwww.googleapis.com%2fauth%2fpeopleapi.readonly\n",
            "\n",
            "Enter your authorization code:\n",
            "··········\n",
            "Mounted at /content/drive\n"
          ],
          "name": "stdout"
        }
      ]
    },
    {
      "cell_type": "code",
      "metadata": {
        "id": "-icwS84IBzcf",
        "colab_type": "code",
        "colab": {
          "base_uri": "https://localhost:8080/",
          "height": 50
        },
        "outputId": "b0fb9f1f-4cf9-4238-cce6-0f07e2fb7e64"
      },
      "source": [
        "import numpy as np\n",
        "import pandas as pd\n",
        "import matplotlib.pyplot as plt\n",
        "import seaborn as sns\n",
        "import cv2\n",
        "from sklearn.model_selection import train_test_split\n",
        "\n",
        "import tensorflow as tf\n",
        "from tensorflow.keras.models import Sequential\n",
        "from tensorflow.keras.layers import *\n",
        "from tensorflow.keras.optimizers import *\n",
        "# from keras.applications.vgg16 import VGG16\n",
        "from tensorflow.python.client import device_lib\n",
        "\n",
        "# from keras.utils import plot_model\n",
        "from tensorflow.keras.models import model_from_json\n",
        "from tensorflow.keras.callbacks import TensorBoard\n",
        "from tensorflow.keras.callbacks import ModelCheckpoint\n",
        "\n",
        "from tensorflow.keras.layers import Dense, Flatten, LSTM, Activation, BatchNormalization\n",
        "from tensorflow.keras.layers import Dropout, RepeatVector, TimeDistributed\n",
        "from tensorflow.keras import Input, Model\n",
        "from tensorflow.keras.layers import Lambda\n",
        "from tensorflow.keras.preprocessing.image import ImageDataGenerator\n",
        "\n",
        "X = np.load('/content/drive/My Drive/emotion_data/X.npy')\n",
        "y = np.load('/content/drive/My Drive/emotion_data/y.npy')\n",
        "def indices_to_one_hot(data, nb_classes):\n",
        "    \"\"\"Convert an iterable of indices to one-hot encoded labels.\"\"\"\n",
        "    targets = np.array(data).reshape(-1)\n",
        "    return np.eye(nb_classes)[targets]\n",
        "\n",
        "y = indices_to_one_hot(y.astype(int), 7)\n",
        "# X = X/255\n",
        "print(X.shape)\n",
        "print(y.shape)\n",
        "# print(np.unique(y))"
      ],
      "execution_count": 10,
      "outputs": [
        {
          "output_type": "stream",
          "text": [
            "(28709, 48, 48)\n",
            "(28709, 7)\n"
          ],
          "name": "stdout"
        }
      ]
    },
    {
      "cell_type": "code",
      "metadata": {
        "id": "A8V4B7-oCnS2",
        "colab_type": "code",
        "colab": {
          "base_uri": "https://localhost:8080/",
          "height": 84
        },
        "outputId": "2832d9ca-aa30-4e8e-f5bf-d4c704b5d886"
      },
      "source": [
        "X_train, X_test, y_train, y_test = train_test_split(X, y, test_size=0.1615, random_state=42)\n",
        "\n",
        "print(X_train.shape)\n",
        "print(y_train.shape)\n",
        "print(X_test.shape)\n",
        "print(y_test.shape)\n",
        "\n",
        "train_datagen = ImageDataGenerator(\n",
        "        rescale = 1./255,\n",
        "        rotation_range = 30,\n",
        "        shear_range = 0.3,\n",
        "        zoom_range = 0.3,\n",
        "        width_shift_range = 0.4,\n",
        "        horizontal_flip = True,\n",
        "        fill_mode = 'nearest'\n",
        ")\n",
        "\n",
        "test_datagen = ImageDataGenerator(rescale=1./255)\n",
        "\n",
        "train_generator = tf.keras.preprocessing.image.NumpyArrayIterator(X_train.reshape(-1,48,48,1), y_train.reshape(-1,7), \n",
        "                                                                 train_datagen,batch_size=32, shuffle=True)\n",
        "\n",
        "test_generator = tf.keras.preprocessing.image.NumpyArrayIterator(X_test.reshape(-1,48,48,1), y_test.reshape(-1,7), test_datagen,\n",
        "                                                              batch_size=32, shuffle=True)"
      ],
      "execution_count": 11,
      "outputs": [
        {
          "output_type": "stream",
          "text": [
            "(24072, 48, 48)\n",
            "(24072, 7)\n",
            "(4637, 48, 48)\n",
            "(4637, 7)\n"
          ],
          "name": "stdout"
        }
      ]
    },
    {
      "cell_type": "code",
      "metadata": {
        "id": "0PjFIPOkDa62",
        "colab_type": "code",
        "colab": {}
      },
      "source": [
        "network = tf.keras.applications.ResNet50(include_top=True, weights=None, input_shape=(224,224,1), classes=7)\n",
        "# network.summary()"
      ],
      "execution_count": 0,
      "outputs": []
    },
    {
      "cell_type": "code",
      "metadata": {
        "id": "alRjbfljD0sO",
        "colab_type": "code",
        "colab": {
          "base_uri": "https://localhost:8080/",
          "height": 67
        },
        "outputId": "fe865bac-5cb4-4586-8dec-6e58c141d6ed"
      },
      "source": [
        "network.compile(loss='categorical_crossentropy',\n",
        "              optimizer=SGD(lr=0.001),\n",
        "              metrics=['accuracy'])\n",
        "\n",
        "filepath = \"/content/drive/My Drive/emotion_data/resnet50.hdf5\"\n",
        "\n",
        "checkpoint = ModelCheckpoint(filepath,\n",
        "                            monitor='val_accuracy',\n",
        "                            verbose=1,\n",
        "                            save_best_only=True,\n",
        "                            mode='max')\n",
        "\n",
        "history = network.fit_generator(train_generator, epochs=1, validation_data=test_generator, callbacks=[checkpoint]) "
      ],
      "execution_count": 26,
      "outputs": [
        {
          "output_type": "stream",
          "text": [
            "752/753 [============================>.] - ETA: 0s - loss: 1.6250 - accuracy: 0.3593\n",
            "Epoch 00001: val_accuracy improved from -inf to 0.41234, saving model to /content/drive/My Drive/emotion_data/resnet50.hdf5\n",
            "753/753 [==============================] - 40s 53ms/step - loss: 1.6252 - accuracy: 0.3592 - val_loss: 1.5168 - val_accuracy: 0.4123\n"
          ],
          "name": "stdout"
        }
      ]
    },
    {
      "cell_type": "code",
      "metadata": {
        "id": "_15kYvAaEETH",
        "colab_type": "code",
        "colab": {
          "base_uri": "https://localhost:8080/",
          "height": 1000
        },
        "outputId": "ff60db97-c150-4e97-9ee0-ca6af6ad6e89"
      },
      "source": [
        "history2 = network.fit_generator(train_generator, epochs=30, validation_data=test_generator, callbacks=[checkpoint])"
      ],
      "execution_count": 27,
      "outputs": [
        {
          "output_type": "stream",
          "text": [
            "Epoch 1/30\n",
            "753/753 [==============================] - ETA: 0s - loss: 1.6173 - accuracy: 0.3629\n",
            "Epoch 00001: val_accuracy did not improve from 0.41234\n",
            "753/753 [==============================] - 39s 51ms/step - loss: 1.6173 - accuracy: 0.3629 - val_loss: 1.5476 - val_accuracy: 0.4005\n",
            "Epoch 2/30\n",
            "753/753 [==============================] - ETA: 0s - loss: 1.6187 - accuracy: 0.3598\n",
            "Epoch 00002: val_accuracy did not improve from 0.41234\n",
            "753/753 [==============================] - 38s 51ms/step - loss: 1.6187 - accuracy: 0.3598 - val_loss: 1.5297 - val_accuracy: 0.4020\n",
            "Epoch 3/30\n",
            "753/753 [==============================] - ETA: 0s - loss: 1.6151 - accuracy: 0.3637\n",
            "Epoch 00003: val_accuracy improved from 0.41234 to 0.41363, saving model to /content/drive/My Drive/emotion_data/resnet50.hdf5\n",
            "753/753 [==============================] - 40s 53ms/step - loss: 1.6151 - accuracy: 0.3637 - val_loss: 1.5114 - val_accuracy: 0.4136\n",
            "Epoch 4/30\n",
            "752/753 [============================>.] - ETA: 0s - loss: 1.6136 - accuracy: 0.3659\n",
            "Epoch 00004: val_accuracy did not improve from 0.41363\n",
            "753/753 [==============================] - 39s 51ms/step - loss: 1.6134 - accuracy: 0.3660 - val_loss: 1.5461 - val_accuracy: 0.3975\n",
            "Epoch 5/30\n",
            "752/753 [============================>.] - ETA: 0s - loss: 1.6109 - accuracy: 0.3641\n",
            "Epoch 00005: val_accuracy did not improve from 0.41363\n",
            "753/753 [==============================] - 38s 51ms/step - loss: 1.6108 - accuracy: 0.3641 - val_loss: 1.5068 - val_accuracy: 0.4123\n",
            "Epoch 6/30\n",
            "753/753 [==============================] - ETA: 0s - loss: 1.6124 - accuracy: 0.3627\n",
            "Epoch 00006: val_accuracy did not improve from 0.41363\n",
            "753/753 [==============================] - 38s 51ms/step - loss: 1.6124 - accuracy: 0.3627 - val_loss: 1.5186 - val_accuracy: 0.4121\n",
            "Epoch 7/30\n",
            "752/753 [============================>.] - ETA: 0s - loss: 1.6088 - accuracy: 0.3666\n",
            "Epoch 00007: val_accuracy improved from 0.41363 to 0.42355, saving model to /content/drive/My Drive/emotion_data/resnet50.hdf5\n",
            "753/753 [==============================] - 39s 52ms/step - loss: 1.6087 - accuracy: 0.3665 - val_loss: 1.4938 - val_accuracy: 0.4235\n",
            "Epoch 8/30\n",
            "753/753 [==============================] - ETA: 0s - loss: 1.5975 - accuracy: 0.3673\n",
            "Epoch 00008: val_accuracy did not improve from 0.42355\n",
            "753/753 [==============================] - 38s 50ms/step - loss: 1.5975 - accuracy: 0.3673 - val_loss: 1.5132 - val_accuracy: 0.4050\n",
            "Epoch 9/30\n",
            "752/753 [============================>.] - ETA: 0s - loss: 1.6007 - accuracy: 0.3704\n",
            "Epoch 00009: val_accuracy improved from 0.42355 to 0.42743, saving model to /content/drive/My Drive/emotion_data/resnet50.hdf5\n",
            "753/753 [==============================] - 39s 51ms/step - loss: 1.6007 - accuracy: 0.3705 - val_loss: 1.4870 - val_accuracy: 0.4274\n",
            "Epoch 10/30\n",
            "752/753 [============================>.] - ETA: 0s - loss: 1.6018 - accuracy: 0.3717\n",
            "Epoch 00010: val_accuracy did not improve from 0.42743\n",
            "753/753 [==============================] - 37s 49ms/step - loss: 1.6016 - accuracy: 0.3717 - val_loss: 1.5043 - val_accuracy: 0.4227\n",
            "Epoch 11/30\n",
            "752/753 [============================>.] - ETA: 0s - loss: 1.5973 - accuracy: 0.3723\n",
            "Epoch 00011: val_accuracy did not improve from 0.42743\n",
            "753/753 [==============================] - 37s 49ms/step - loss: 1.5974 - accuracy: 0.3722 - val_loss: 1.5127 - val_accuracy: 0.4113\n",
            "Epoch 12/30\n",
            "753/753 [==============================] - ETA: 0s - loss: 1.5870 - accuracy: 0.3752\n",
            "Epoch 00012: val_accuracy improved from 0.42743 to 0.43153, saving model to /content/drive/My Drive/emotion_data/resnet50.hdf5\n",
            "753/753 [==============================] - 38s 51ms/step - loss: 1.5870 - accuracy: 0.3752 - val_loss: 1.4937 - val_accuracy: 0.4315\n",
            "Epoch 13/30\n",
            "753/753 [==============================] - ETA: 0s - loss: 1.5902 - accuracy: 0.3732\n",
            "Epoch 00013: val_accuracy did not improve from 0.43153\n",
            "753/753 [==============================] - 37s 50ms/step - loss: 1.5902 - accuracy: 0.3732 - val_loss: 1.4944 - val_accuracy: 0.4264\n",
            "Epoch 14/30\n",
            "753/753 [==============================] - ETA: 0s - loss: 1.5862 - accuracy: 0.3789\n",
            "Epoch 00014: val_accuracy did not improve from 0.43153\n",
            "753/753 [==============================] - 37s 49ms/step - loss: 1.5862 - accuracy: 0.3789 - val_loss: 1.6019 - val_accuracy: 0.3742\n",
            "Epoch 15/30\n",
            "753/753 [==============================] - ETA: 0s - loss: 1.5845 - accuracy: 0.3785\n",
            "Epoch 00015: val_accuracy did not improve from 0.43153\n",
            "753/753 [==============================] - 37s 49ms/step - loss: 1.5845 - accuracy: 0.3785 - val_loss: 1.4850 - val_accuracy: 0.4233\n",
            "Epoch 16/30\n",
            "752/753 [============================>.] - ETA: 0s - loss: 1.5845 - accuracy: 0.3770\n",
            "Epoch 00016: val_accuracy improved from 0.43153 to 0.43239, saving model to /content/drive/My Drive/emotion_data/resnet50.hdf5\n",
            "753/753 [==============================] - 38s 51ms/step - loss: 1.5844 - accuracy: 0.3771 - val_loss: 1.4851 - val_accuracy: 0.4324\n",
            "Epoch 17/30\n",
            "753/753 [==============================] - ETA: 0s - loss: 1.5811 - accuracy: 0.3788\n",
            "Epoch 00017: val_accuracy did not improve from 0.43239\n",
            "753/753 [==============================] - 37s 49ms/step - loss: 1.5811 - accuracy: 0.3788 - val_loss: 1.5131 - val_accuracy: 0.4160\n",
            "Epoch 18/30\n",
            "753/753 [==============================] - ETA: 0s - loss: 1.5761 - accuracy: 0.3835\n",
            "Epoch 00018: val_accuracy did not improve from 0.43239\n",
            "753/753 [==============================] - 37s 49ms/step - loss: 1.5761 - accuracy: 0.3835 - val_loss: 1.4781 - val_accuracy: 0.4307\n",
            "Epoch 19/30\n",
            "752/753 [============================>.] - ETA: 0s - loss: 1.5751 - accuracy: 0.3854\n",
            "Epoch 00019: val_accuracy improved from 0.43239 to 0.43541, saving model to /content/drive/My Drive/emotion_data/resnet50.hdf5\n",
            "753/753 [==============================] - 39s 51ms/step - loss: 1.5752 - accuracy: 0.3854 - val_loss: 1.4800 - val_accuracy: 0.4354\n",
            "Epoch 20/30\n",
            "753/753 [==============================] - ETA: 0s - loss: 1.5715 - accuracy: 0.3854\n",
            "Epoch 00020: val_accuracy did not improve from 0.43541\n",
            "753/753 [==============================] - 37s 49ms/step - loss: 1.5715 - accuracy: 0.3854 - val_loss: 1.5413 - val_accuracy: 0.4130\n",
            "Epoch 21/30\n",
            "752/753 [============================>.] - ETA: 0s - loss: 1.5749 - accuracy: 0.3809\n",
            "Epoch 00021: val_accuracy did not improve from 0.43541\n",
            "753/753 [==============================] - 37s 49ms/step - loss: 1.5749 - accuracy: 0.3810 - val_loss: 1.6005 - val_accuracy: 0.3729\n",
            "Epoch 22/30\n",
            "752/753 [============================>.] - ETA: 0s - loss: 1.5653 - accuracy: 0.3860\n",
            "Epoch 00022: val_accuracy improved from 0.43541 to 0.43735, saving model to /content/drive/My Drive/emotion_data/resnet50.hdf5\n",
            "753/753 [==============================] - 38s 51ms/step - loss: 1.5651 - accuracy: 0.3860 - val_loss: 1.4757 - val_accuracy: 0.4374\n",
            "Epoch 23/30\n",
            "752/753 [============================>.] - ETA: 0s - loss: 1.5595 - accuracy: 0.3904\n",
            "Epoch 00023: val_accuracy did not improve from 0.43735\n",
            "753/753 [==============================] - 37s 49ms/step - loss: 1.5596 - accuracy: 0.3905 - val_loss: 1.4934 - val_accuracy: 0.4315\n",
            "Epoch 24/30\n",
            "753/753 [==============================] - ETA: 0s - loss: 1.5577 - accuracy: 0.3938\n",
            "Epoch 00024: val_accuracy did not improve from 0.43735\n",
            "753/753 [==============================] - 37s 49ms/step - loss: 1.5577 - accuracy: 0.3938 - val_loss: 1.4828 - val_accuracy: 0.4292\n",
            "Epoch 25/30\n",
            "752/753 [============================>.] - ETA: 0s - loss: 1.5606 - accuracy: 0.3912\n",
            "Epoch 00025: val_accuracy did not improve from 0.43735\n",
            "753/753 [==============================] - 37s 49ms/step - loss: 1.5607 - accuracy: 0.3910 - val_loss: 1.5473 - val_accuracy: 0.3959\n",
            "Epoch 26/30\n",
            "753/753 [==============================] - ETA: 0s - loss: 1.5568 - accuracy: 0.3907\n",
            "Epoch 00026: val_accuracy did not improve from 0.43735\n",
            "753/753 [==============================] - 37s 49ms/step - loss: 1.5568 - accuracy: 0.3907 - val_loss: 1.5563 - val_accuracy: 0.3914\n",
            "Epoch 27/30\n",
            "753/753 [==============================] - ETA: 0s - loss: 1.5560 - accuracy: 0.3865\n",
            "Epoch 00027: val_accuracy did not improve from 0.43735\n",
            "753/753 [==============================] - 37s 49ms/step - loss: 1.5560 - accuracy: 0.3865 - val_loss: 1.4868 - val_accuracy: 0.4214\n",
            "Epoch 28/30\n",
            "752/753 [============================>.] - ETA: 0s - loss: 1.5492 - accuracy: 0.3951\n",
            "Epoch 00028: val_accuracy did not improve from 0.43735\n",
            "753/753 [==============================] - 37s 49ms/step - loss: 1.5492 - accuracy: 0.3953 - val_loss: 1.5234 - val_accuracy: 0.4067\n",
            "Epoch 29/30\n",
            "752/753 [============================>.] - ETA: 0s - loss: 1.5528 - accuracy: 0.3925\n",
            "Epoch 00029: val_accuracy did not improve from 0.43735\n",
            "753/753 [==============================] - 37s 49ms/step - loss: 1.5526 - accuracy: 0.3925 - val_loss: 1.4870 - val_accuracy: 0.4259\n",
            "Epoch 30/30\n",
            "752/753 [============================>.] - ETA: 0s - loss: 1.5479 - accuracy: 0.3968\n",
            "Epoch 00030: val_accuracy did not improve from 0.43735\n",
            "753/753 [==============================] - 37s 49ms/step - loss: 1.5479 - accuracy: 0.3969 - val_loss: 1.4820 - val_accuracy: 0.4328\n"
          ],
          "name": "stdout"
        }
      ]
    },
    {
      "cell_type": "code",
      "metadata": {
        "id": "AiHnV-WAElME",
        "colab_type": "code",
        "colab": {
          "base_uri": "https://localhost:8080/",
          "height": 1000
        },
        "outputId": "43368ef9-329d-4010-b05e-9c449229b48a"
      },
      "source": [
        "history = network.fit_generator(train_generator, epochs=100, validation_data=test_generator, callbacks=[checkpoint])"
      ],
      "execution_count": 0,
      "outputs": [
        {
          "output_type": "stream",
          "text": [
            "Epoch 1/100\n",
            "752/753 [============================>.] - ETA: 0s - loss: 1.5427 - accuracy: 0.3979\n",
            "Epoch 00001: val_accuracy improved from 0.43735 to 0.43800, saving model to /content/drive/My Drive/emotion_data/resnet50.hdf5\n",
            "753/753 [==============================] - 38s 51ms/step - loss: 1.5428 - accuracy: 0.3979 - val_loss: 1.4896 - val_accuracy: 0.4380\n",
            "Epoch 2/100\n",
            "752/753 [============================>.] - ETA: 0s - loss: 1.5456 - accuracy: 0.3971\n",
            "Epoch 00002: val_accuracy improved from 0.43800 to 0.44490, saving model to /content/drive/My Drive/emotion_data/resnet50.hdf5\n",
            "753/753 [==============================] - 39s 51ms/step - loss: 1.5456 - accuracy: 0.3971 - val_loss: 1.4374 - val_accuracy: 0.4449\n",
            "Epoch 3/100\n",
            "753/753 [==============================] - ETA: 0s - loss: 1.5405 - accuracy: 0.3974\n",
            "Epoch 00003: val_accuracy did not improve from 0.44490\n",
            "753/753 [==============================] - 37s 49ms/step - loss: 1.5405 - accuracy: 0.3974 - val_loss: 1.5153 - val_accuracy: 0.4182\n",
            "Epoch 4/100\n",
            "753/753 [==============================] - ETA: 0s - loss: 1.5389 - accuracy: 0.3995\n",
            "Epoch 00004: val_accuracy did not improve from 0.44490\n",
            "753/753 [==============================] - 37s 49ms/step - loss: 1.5389 - accuracy: 0.3995 - val_loss: 1.4360 - val_accuracy: 0.4386\n",
            "Epoch 5/100\n",
            "753/753 [==============================] - ETA: 0s - loss: 1.5315 - accuracy: 0.4010\n",
            "Epoch 00005: val_accuracy did not improve from 0.44490\n",
            "753/753 [==============================] - 37s 49ms/step - loss: 1.5315 - accuracy: 0.4010 - val_loss: 1.5456 - val_accuracy: 0.3964\n",
            "Epoch 6/100\n",
            "753/753 [==============================] - ETA: 0s - loss: 1.5308 - accuracy: 0.4016\n",
            "Epoch 00006: val_accuracy did not improve from 0.44490\n",
            "753/753 [==============================] - 37s 49ms/step - loss: 1.5308 - accuracy: 0.4016 - val_loss: 1.4495 - val_accuracy: 0.4408\n",
            "Epoch 7/100\n",
            "753/753 [==============================] - ETA: 0s - loss: 1.5245 - accuracy: 0.4050\n",
            "Epoch 00007: val_accuracy did not improve from 0.44490\n",
            "753/753 [==============================] - 37s 49ms/step - loss: 1.5245 - accuracy: 0.4050 - val_loss: 1.6022 - val_accuracy: 0.3774\n",
            "Epoch 8/100\n",
            "752/753 [============================>.] - ETA: 0s - loss: 1.5277 - accuracy: 0.4042\n",
            "Epoch 00008: val_accuracy did not improve from 0.44490\n",
            "753/753 [==============================] - 37s 49ms/step - loss: 1.5280 - accuracy: 0.4040 - val_loss: 1.4435 - val_accuracy: 0.4432\n",
            "Epoch 9/100\n",
            "753/753 [==============================] - ETA: 0s - loss: 1.5275 - accuracy: 0.4012\n",
            "Epoch 00009: val_accuracy improved from 0.44490 to 0.44749, saving model to /content/drive/My Drive/emotion_data/resnet50.hdf5\n",
            "753/753 [==============================] - 38s 50ms/step - loss: 1.5275 - accuracy: 0.4012 - val_loss: 1.4325 - val_accuracy: 0.4475\n",
            "Epoch 10/100\n",
            "752/753 [============================>.] - ETA: 0s - loss: 1.5238 - accuracy: 0.4051\n",
            "Epoch 00010: val_accuracy did not improve from 0.44749\n",
            "753/753 [==============================] - 37s 49ms/step - loss: 1.5236 - accuracy: 0.4053 - val_loss: 1.6025 - val_accuracy: 0.3770\n",
            "Epoch 11/100\n",
            "753/753 [==============================] - ETA: 0s - loss: 1.5214 - accuracy: 0.4093\n",
            "Epoch 00011: val_accuracy improved from 0.44749 to 0.46862, saving model to /content/drive/My Drive/emotion_data/resnet50.hdf5\n",
            "753/753 [==============================] - 38s 50ms/step - loss: 1.5214 - accuracy: 0.4093 - val_loss: 1.3992 - val_accuracy: 0.4686\n",
            "Epoch 12/100\n",
            "752/753 [============================>.] - ETA: 0s - loss: 1.5176 - accuracy: 0.4106\n",
            "Epoch 00012: val_accuracy did not improve from 0.46862\n",
            "753/753 [==============================] - 37s 49ms/step - loss: 1.5176 - accuracy: 0.4106 - val_loss: 1.4567 - val_accuracy: 0.4419\n",
            "Epoch 13/100\n",
            "753/753 [==============================] - ETA: 0s - loss: 1.5139 - accuracy: 0.4118\n",
            "Epoch 00013: val_accuracy did not improve from 0.46862\n",
            "753/753 [==============================] - 37s 49ms/step - loss: 1.5139 - accuracy: 0.4118 - val_loss: 1.4450 - val_accuracy: 0.4505\n",
            "Epoch 14/100\n",
            "752/753 [============================>.] - ETA: 0s - loss: 1.5205 - accuracy: 0.4067\n",
            "Epoch 00014: val_accuracy did not improve from 0.46862\n",
            "753/753 [==============================] - 37s 49ms/step - loss: 1.5205 - accuracy: 0.4067 - val_loss: 1.4423 - val_accuracy: 0.4421\n",
            "Epoch 15/100\n",
            "752/753 [============================>.] - ETA: 0s - loss: 1.5116 - accuracy: 0.4139\n",
            "Epoch 00015: val_accuracy did not improve from 0.46862\n",
            "753/753 [==============================] - 37s 49ms/step - loss: 1.5114 - accuracy: 0.4140 - val_loss: 1.4123 - val_accuracy: 0.4578\n",
            "Epoch 16/100\n",
            "753/753 [==============================] - ETA: 0s - loss: 1.5158 - accuracy: 0.4100\n",
            "Epoch 00016: val_accuracy did not improve from 0.46862\n",
            "753/753 [==============================] - 37s 49ms/step - loss: 1.5158 - accuracy: 0.4100 - val_loss: 1.4421 - val_accuracy: 0.4417\n",
            "Epoch 17/100\n",
            "753/753 [==============================] - ETA: 0s - loss: 1.5075 - accuracy: 0.4153\n",
            "Epoch 00017: val_accuracy did not improve from 0.46862\n",
            "753/753 [==============================] - 37s 49ms/step - loss: 1.5075 - accuracy: 0.4153 - val_loss: 1.4285 - val_accuracy: 0.4453\n",
            "Epoch 18/100\n",
            "753/753 [==============================] - ETA: 0s - loss: 1.5051 - accuracy: 0.4200\n",
            "Epoch 00018: val_accuracy did not improve from 0.46862\n",
            "753/753 [==============================] - 37s 49ms/step - loss: 1.5051 - accuracy: 0.4200 - val_loss: 1.4603 - val_accuracy: 0.4389\n",
            "Epoch 19/100\n",
            "608/753 [=======================>......] - ETA: 6s - loss: 1.5031 - accuracy: 0.4184"
          ],
          "name": "stdout"
        }
      ]
    },
    {
      "cell_type": "code",
      "metadata": {
        "id": "_1aNH6b3Qj26",
        "colab_type": "code",
        "colab": {}
      },
      "source": [
        ""
      ],
      "execution_count": 0,
      "outputs": []
    }
  ]
}